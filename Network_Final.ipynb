{
  "nbformat": 4,
  "nbformat_minor": 0,
  "metadata": {
    "colab": {
      "name": "Network Final",
      "provenance": [],
      "collapsed_sections": []
    },
    "kernelspec": {
      "name": "python3",
      "display_name": "Python 3"
    },
    "language_info": {
      "name": "python"
    }
  },
  "cells": [
    {
      "cell_type": "code",
      "metadata": {
        "id": "ndqBOO1X6KhY",
        "colab": {
          "base_uri": "https://localhost:8080/"
        },
        "outputId": "3cc947f5-c89f-4482-afa0-bf9989363248"
      },
      "source": [
        "import matplotlib.pyplot as plt\n",
        "from sklearn.metrics import plot_roc_curve, classification_report, roc_auc_score, auc, roc_curve\n",
        "from sklearn.neighbors import KNeighborsClassifier\n",
        "from sklearn.naive_bayes import GaussianNB\n",
        "from sklearn.ensemble import RandomForestClassifier\n",
        "from sklearn.svm import SVC\n",
        "from sklearn.model_selection import GridSearchCV\n",
        "import pandas as pd\n",
        "import seaborn as sns\n",
        "import warnings\n",
        "from google.colab import drive\n",
        "import xgboost as xg\n",
        "import tensorflow as tf\n",
        "from tensorflow.keras.models import Sequential\n",
        "from tensorflow.keras.layers import Dense\n",
        "import pickle\n",
        "warnings.filterwarnings(\"ignore\")\n",
        "sns.set_theme(style=\"whitegrid\")\n",
        "drive.mount(\"/content/drive\")"
      ],
      "execution_count": 1,
      "outputs": [
        {
          "output_type": "stream",
          "text": [
            "Mounted at /content/drive\n"
          ],
          "name": "stdout"
        }
      ]
    },
    {
      "cell_type": "code",
      "metadata": {
        "id": "MI4RJ9mT6iTm"
      },
      "source": [
        "data = pd.read_csv(\"/content/drive/MyDrive/NetworkFinalData/dataset_small.csv\")"
      ],
      "execution_count": 3,
      "outputs": []
    },
    {
      "cell_type": "code",
      "metadata": {
        "colab": {
          "base_uri": "https://localhost:8080/"
        },
        "id": "Lm3CN9TICh4k",
        "outputId": "ae2539c2-029f-4bf1-9ad8-64a66414fdeb"
      },
      "source": [
        "data.shape"
      ],
      "execution_count": null,
      "outputs": [
        {
          "output_type": "execute_result",
          "data": {
            "text/plain": [
              "(58645, 112)"
            ]
          },
          "metadata": {
            "tags": []
          },
          "execution_count": 3
        }
      ]
    },
    {
      "cell_type": "code",
      "metadata": {
        "id": "HalIYWby6lvz",
        "colab": {
          "base_uri": "https://localhost:8080/",
          "height": 252
        },
        "outputId": "379dae0a-161e-4bee-c428-2f046e7eac2b"
      },
      "source": [
        "data.head()"
      ],
      "execution_count": null,
      "outputs": [
        {
          "output_type": "execute_result",
          "data": {
            "text/html": [
              "<div>\n",
              "<style scoped>\n",
              "    .dataframe tbody tr th:only-of-type {\n",
              "        vertical-align: middle;\n",
              "    }\n",
              "\n",
              "    .dataframe tbody tr th {\n",
              "        vertical-align: top;\n",
              "    }\n",
              "\n",
              "    .dataframe thead th {\n",
              "        text-align: right;\n",
              "    }\n",
              "</style>\n",
              "<table border=\"1\" class=\"dataframe\">\n",
              "  <thead>\n",
              "    <tr style=\"text-align: right;\">\n",
              "      <th></th>\n",
              "      <th>qty_dot_url</th>\n",
              "      <th>qty_hyphen_url</th>\n",
              "      <th>qty_underline_url</th>\n",
              "      <th>qty_slash_url</th>\n",
              "      <th>qty_questionmark_url</th>\n",
              "      <th>qty_equal_url</th>\n",
              "      <th>qty_at_url</th>\n",
              "      <th>qty_and_url</th>\n",
              "      <th>qty_exclamation_url</th>\n",
              "      <th>qty_space_url</th>\n",
              "      <th>qty_tilde_url</th>\n",
              "      <th>qty_comma_url</th>\n",
              "      <th>qty_plus_url</th>\n",
              "      <th>qty_asterisk_url</th>\n",
              "      <th>qty_hashtag_url</th>\n",
              "      <th>qty_dollar_url</th>\n",
              "      <th>qty_percent_url</th>\n",
              "      <th>qty_tld_url</th>\n",
              "      <th>length_url</th>\n",
              "      <th>qty_dot_domain</th>\n",
              "      <th>qty_hyphen_domain</th>\n",
              "      <th>qty_underline_domain</th>\n",
              "      <th>qty_slash_domain</th>\n",
              "      <th>qty_questionmark_domain</th>\n",
              "      <th>qty_equal_domain</th>\n",
              "      <th>qty_at_domain</th>\n",
              "      <th>qty_and_domain</th>\n",
              "      <th>qty_exclamation_domain</th>\n",
              "      <th>qty_space_domain</th>\n",
              "      <th>qty_tilde_domain</th>\n",
              "      <th>qty_comma_domain</th>\n",
              "      <th>qty_plus_domain</th>\n",
              "      <th>qty_asterisk_domain</th>\n",
              "      <th>qty_hashtag_domain</th>\n",
              "      <th>qty_dollar_domain</th>\n",
              "      <th>qty_percent_domain</th>\n",
              "      <th>qty_vowels_domain</th>\n",
              "      <th>domain_length</th>\n",
              "      <th>domain_in_ip</th>\n",
              "      <th>server_client_domain</th>\n",
              "      <th>...</th>\n",
              "      <th>qty_hashtag_file</th>\n",
              "      <th>qty_dollar_file</th>\n",
              "      <th>qty_percent_file</th>\n",
              "      <th>file_length</th>\n",
              "      <th>qty_dot_params</th>\n",
              "      <th>qty_hyphen_params</th>\n",
              "      <th>qty_underline_params</th>\n",
              "      <th>qty_slash_params</th>\n",
              "      <th>qty_questionmark_params</th>\n",
              "      <th>qty_equal_params</th>\n",
              "      <th>qty_at_params</th>\n",
              "      <th>qty_and_params</th>\n",
              "      <th>qty_exclamation_params</th>\n",
              "      <th>qty_space_params</th>\n",
              "      <th>qty_tilde_params</th>\n",
              "      <th>qty_comma_params</th>\n",
              "      <th>qty_plus_params</th>\n",
              "      <th>qty_asterisk_params</th>\n",
              "      <th>qty_hashtag_params</th>\n",
              "      <th>qty_dollar_params</th>\n",
              "      <th>qty_percent_params</th>\n",
              "      <th>params_length</th>\n",
              "      <th>tld_present_params</th>\n",
              "      <th>qty_params</th>\n",
              "      <th>email_in_url</th>\n",
              "      <th>time_response</th>\n",
              "      <th>domain_spf</th>\n",
              "      <th>asn_ip</th>\n",
              "      <th>time_domain_activation</th>\n",
              "      <th>time_domain_expiration</th>\n",
              "      <th>qty_ip_resolved</th>\n",
              "      <th>qty_nameservers</th>\n",
              "      <th>qty_mx_servers</th>\n",
              "      <th>ttl_hostname</th>\n",
              "      <th>tls_ssl_certificate</th>\n",
              "      <th>qty_redirects</th>\n",
              "      <th>url_google_index</th>\n",
              "      <th>domain_google_index</th>\n",
              "      <th>url_shortened</th>\n",
              "      <th>phishing</th>\n",
              "    </tr>\n",
              "  </thead>\n",
              "  <tbody>\n",
              "    <tr>\n",
              "      <th>0</th>\n",
              "      <td>2</td>\n",
              "      <td>0</td>\n",
              "      <td>0</td>\n",
              "      <td>0</td>\n",
              "      <td>0</td>\n",
              "      <td>0</td>\n",
              "      <td>0</td>\n",
              "      <td>0</td>\n",
              "      <td>0</td>\n",
              "      <td>0</td>\n",
              "      <td>0</td>\n",
              "      <td>0</td>\n",
              "      <td>0</td>\n",
              "      <td>0</td>\n",
              "      <td>0</td>\n",
              "      <td>0</td>\n",
              "      <td>0</td>\n",
              "      <td>1</td>\n",
              "      <td>14</td>\n",
              "      <td>2</td>\n",
              "      <td>0</td>\n",
              "      <td>0</td>\n",
              "      <td>0</td>\n",
              "      <td>0</td>\n",
              "      <td>0</td>\n",
              "      <td>0</td>\n",
              "      <td>0</td>\n",
              "      <td>0</td>\n",
              "      <td>0</td>\n",
              "      <td>0</td>\n",
              "      <td>0</td>\n",
              "      <td>0</td>\n",
              "      <td>0</td>\n",
              "      <td>0</td>\n",
              "      <td>0</td>\n",
              "      <td>0</td>\n",
              "      <td>3</td>\n",
              "      <td>14</td>\n",
              "      <td>0</td>\n",
              "      <td>0</td>\n",
              "      <td>...</td>\n",
              "      <td>-1</td>\n",
              "      <td>-1</td>\n",
              "      <td>-1</td>\n",
              "      <td>-1</td>\n",
              "      <td>-1</td>\n",
              "      <td>-1</td>\n",
              "      <td>-1</td>\n",
              "      <td>-1</td>\n",
              "      <td>-1</td>\n",
              "      <td>-1</td>\n",
              "      <td>-1</td>\n",
              "      <td>-1</td>\n",
              "      <td>-1</td>\n",
              "      <td>-1</td>\n",
              "      <td>-1</td>\n",
              "      <td>-1</td>\n",
              "      <td>-1</td>\n",
              "      <td>-1</td>\n",
              "      <td>-1</td>\n",
              "      <td>-1</td>\n",
              "      <td>-1</td>\n",
              "      <td>-1</td>\n",
              "      <td>-1</td>\n",
              "      <td>-1</td>\n",
              "      <td>0</td>\n",
              "      <td>0.334573</td>\n",
              "      <td>0</td>\n",
              "      <td>8560</td>\n",
              "      <td>4927</td>\n",
              "      <td>185</td>\n",
              "      <td>1</td>\n",
              "      <td>4</td>\n",
              "      <td>2</td>\n",
              "      <td>3598</td>\n",
              "      <td>0</td>\n",
              "      <td>0</td>\n",
              "      <td>0</td>\n",
              "      <td>0</td>\n",
              "      <td>0</td>\n",
              "      <td>0</td>\n",
              "    </tr>\n",
              "    <tr>\n",
              "      <th>1</th>\n",
              "      <td>4</td>\n",
              "      <td>0</td>\n",
              "      <td>0</td>\n",
              "      <td>2</td>\n",
              "      <td>0</td>\n",
              "      <td>0</td>\n",
              "      <td>0</td>\n",
              "      <td>0</td>\n",
              "      <td>0</td>\n",
              "      <td>0</td>\n",
              "      <td>0</td>\n",
              "      <td>0</td>\n",
              "      <td>0</td>\n",
              "      <td>0</td>\n",
              "      <td>0</td>\n",
              "      <td>0</td>\n",
              "      <td>0</td>\n",
              "      <td>1</td>\n",
              "      <td>38</td>\n",
              "      <td>4</td>\n",
              "      <td>0</td>\n",
              "      <td>0</td>\n",
              "      <td>0</td>\n",
              "      <td>0</td>\n",
              "      <td>0</td>\n",
              "      <td>0</td>\n",
              "      <td>0</td>\n",
              "      <td>0</td>\n",
              "      <td>0</td>\n",
              "      <td>0</td>\n",
              "      <td>0</td>\n",
              "      <td>0</td>\n",
              "      <td>0</td>\n",
              "      <td>0</td>\n",
              "      <td>0</td>\n",
              "      <td>0</td>\n",
              "      <td>10</td>\n",
              "      <td>32</td>\n",
              "      <td>0</td>\n",
              "      <td>0</td>\n",
              "      <td>...</td>\n",
              "      <td>0</td>\n",
              "      <td>0</td>\n",
              "      <td>0</td>\n",
              "      <td>0</td>\n",
              "      <td>-1</td>\n",
              "      <td>-1</td>\n",
              "      <td>-1</td>\n",
              "      <td>-1</td>\n",
              "      <td>-1</td>\n",
              "      <td>-1</td>\n",
              "      <td>-1</td>\n",
              "      <td>-1</td>\n",
              "      <td>-1</td>\n",
              "      <td>-1</td>\n",
              "      <td>-1</td>\n",
              "      <td>-1</td>\n",
              "      <td>-1</td>\n",
              "      <td>-1</td>\n",
              "      <td>-1</td>\n",
              "      <td>-1</td>\n",
              "      <td>-1</td>\n",
              "      <td>-1</td>\n",
              "      <td>-1</td>\n",
              "      <td>-1</td>\n",
              "      <td>0</td>\n",
              "      <td>1.326223</td>\n",
              "      <td>-1</td>\n",
              "      <td>263283</td>\n",
              "      <td>8217</td>\n",
              "      <td>-1</td>\n",
              "      <td>1</td>\n",
              "      <td>4</td>\n",
              "      <td>1</td>\n",
              "      <td>3977</td>\n",
              "      <td>1</td>\n",
              "      <td>0</td>\n",
              "      <td>0</td>\n",
              "      <td>0</td>\n",
              "      <td>0</td>\n",
              "      <td>0</td>\n",
              "    </tr>\n",
              "    <tr>\n",
              "      <th>2</th>\n",
              "      <td>1</td>\n",
              "      <td>0</td>\n",
              "      <td>0</td>\n",
              "      <td>1</td>\n",
              "      <td>0</td>\n",
              "      <td>0</td>\n",
              "      <td>0</td>\n",
              "      <td>0</td>\n",
              "      <td>0</td>\n",
              "      <td>0</td>\n",
              "      <td>0</td>\n",
              "      <td>0</td>\n",
              "      <td>0</td>\n",
              "      <td>0</td>\n",
              "      <td>0</td>\n",
              "      <td>0</td>\n",
              "      <td>0</td>\n",
              "      <td>1</td>\n",
              "      <td>24</td>\n",
              "      <td>1</td>\n",
              "      <td>0</td>\n",
              "      <td>0</td>\n",
              "      <td>0</td>\n",
              "      <td>0</td>\n",
              "      <td>0</td>\n",
              "      <td>0</td>\n",
              "      <td>0</td>\n",
              "      <td>0</td>\n",
              "      <td>0</td>\n",
              "      <td>0</td>\n",
              "      <td>0</td>\n",
              "      <td>0</td>\n",
              "      <td>0</td>\n",
              "      <td>0</td>\n",
              "      <td>0</td>\n",
              "      <td>0</td>\n",
              "      <td>7</td>\n",
              "      <td>23</td>\n",
              "      <td>0</td>\n",
              "      <td>0</td>\n",
              "      <td>...</td>\n",
              "      <td>0</td>\n",
              "      <td>0</td>\n",
              "      <td>0</td>\n",
              "      <td>0</td>\n",
              "      <td>-1</td>\n",
              "      <td>-1</td>\n",
              "      <td>-1</td>\n",
              "      <td>-1</td>\n",
              "      <td>-1</td>\n",
              "      <td>-1</td>\n",
              "      <td>-1</td>\n",
              "      <td>-1</td>\n",
              "      <td>-1</td>\n",
              "      <td>-1</td>\n",
              "      <td>-1</td>\n",
              "      <td>-1</td>\n",
              "      <td>-1</td>\n",
              "      <td>-1</td>\n",
              "      <td>-1</td>\n",
              "      <td>-1</td>\n",
              "      <td>-1</td>\n",
              "      <td>-1</td>\n",
              "      <td>-1</td>\n",
              "      <td>-1</td>\n",
              "      <td>0</td>\n",
              "      <td>3.969207</td>\n",
              "      <td>1</td>\n",
              "      <td>26496</td>\n",
              "      <td>258</td>\n",
              "      <td>106</td>\n",
              "      <td>1</td>\n",
              "      <td>2</td>\n",
              "      <td>1</td>\n",
              "      <td>10788</td>\n",
              "      <td>0</td>\n",
              "      <td>0</td>\n",
              "      <td>0</td>\n",
              "      <td>0</td>\n",
              "      <td>0</td>\n",
              "      <td>0</td>\n",
              "    </tr>\n",
              "    <tr>\n",
              "      <th>3</th>\n",
              "      <td>2</td>\n",
              "      <td>0</td>\n",
              "      <td>0</td>\n",
              "      <td>3</td>\n",
              "      <td>0</td>\n",
              "      <td>0</td>\n",
              "      <td>0</td>\n",
              "      <td>0</td>\n",
              "      <td>0</td>\n",
              "      <td>0</td>\n",
              "      <td>0</td>\n",
              "      <td>0</td>\n",
              "      <td>0</td>\n",
              "      <td>0</td>\n",
              "      <td>0</td>\n",
              "      <td>0</td>\n",
              "      <td>0</td>\n",
              "      <td>1</td>\n",
              "      <td>38</td>\n",
              "      <td>2</td>\n",
              "      <td>0</td>\n",
              "      <td>0</td>\n",
              "      <td>0</td>\n",
              "      <td>0</td>\n",
              "      <td>0</td>\n",
              "      <td>0</td>\n",
              "      <td>0</td>\n",
              "      <td>0</td>\n",
              "      <td>0</td>\n",
              "      <td>0</td>\n",
              "      <td>0</td>\n",
              "      <td>0</td>\n",
              "      <td>0</td>\n",
              "      <td>0</td>\n",
              "      <td>0</td>\n",
              "      <td>0</td>\n",
              "      <td>7</td>\n",
              "      <td>25</td>\n",
              "      <td>0</td>\n",
              "      <td>0</td>\n",
              "      <td>...</td>\n",
              "      <td>0</td>\n",
              "      <td>0</td>\n",
              "      <td>0</td>\n",
              "      <td>0</td>\n",
              "      <td>-1</td>\n",
              "      <td>-1</td>\n",
              "      <td>-1</td>\n",
              "      <td>-1</td>\n",
              "      <td>-1</td>\n",
              "      <td>-1</td>\n",
              "      <td>-1</td>\n",
              "      <td>-1</td>\n",
              "      <td>-1</td>\n",
              "      <td>-1</td>\n",
              "      <td>-1</td>\n",
              "      <td>-1</td>\n",
              "      <td>-1</td>\n",
              "      <td>-1</td>\n",
              "      <td>-1</td>\n",
              "      <td>-1</td>\n",
              "      <td>-1</td>\n",
              "      <td>-1</td>\n",
              "      <td>-1</td>\n",
              "      <td>-1</td>\n",
              "      <td>0</td>\n",
              "      <td>0.495212</td>\n",
              "      <td>1</td>\n",
              "      <td>20013</td>\n",
              "      <td>2602</td>\n",
              "      <td>319</td>\n",
              "      <td>1</td>\n",
              "      <td>2</td>\n",
              "      <td>1</td>\n",
              "      <td>14339</td>\n",
              "      <td>1</td>\n",
              "      <td>0</td>\n",
              "      <td>0</td>\n",
              "      <td>0</td>\n",
              "      <td>0</td>\n",
              "      <td>1</td>\n",
              "    </tr>\n",
              "    <tr>\n",
              "      <th>4</th>\n",
              "      <td>1</td>\n",
              "      <td>1</td>\n",
              "      <td>0</td>\n",
              "      <td>4</td>\n",
              "      <td>0</td>\n",
              "      <td>0</td>\n",
              "      <td>0</td>\n",
              "      <td>0</td>\n",
              "      <td>0</td>\n",
              "      <td>0</td>\n",
              "      <td>0</td>\n",
              "      <td>0</td>\n",
              "      <td>0</td>\n",
              "      <td>0</td>\n",
              "      <td>0</td>\n",
              "      <td>0</td>\n",
              "      <td>0</td>\n",
              "      <td>1</td>\n",
              "      <td>46</td>\n",
              "      <td>1</td>\n",
              "      <td>1</td>\n",
              "      <td>0</td>\n",
              "      <td>0</td>\n",
              "      <td>0</td>\n",
              "      <td>0</td>\n",
              "      <td>0</td>\n",
              "      <td>0</td>\n",
              "      <td>0</td>\n",
              "      <td>0</td>\n",
              "      <td>0</td>\n",
              "      <td>0</td>\n",
              "      <td>0</td>\n",
              "      <td>0</td>\n",
              "      <td>0</td>\n",
              "      <td>0</td>\n",
              "      <td>0</td>\n",
              "      <td>7</td>\n",
              "      <td>19</td>\n",
              "      <td>0</td>\n",
              "      <td>0</td>\n",
              "      <td>...</td>\n",
              "      <td>0</td>\n",
              "      <td>0</td>\n",
              "      <td>0</td>\n",
              "      <td>0</td>\n",
              "      <td>-1</td>\n",
              "      <td>-1</td>\n",
              "      <td>-1</td>\n",
              "      <td>-1</td>\n",
              "      <td>-1</td>\n",
              "      <td>-1</td>\n",
              "      <td>-1</td>\n",
              "      <td>-1</td>\n",
              "      <td>-1</td>\n",
              "      <td>-1</td>\n",
              "      <td>-1</td>\n",
              "      <td>-1</td>\n",
              "      <td>-1</td>\n",
              "      <td>-1</td>\n",
              "      <td>-1</td>\n",
              "      <td>-1</td>\n",
              "      <td>-1</td>\n",
              "      <td>-1</td>\n",
              "      <td>-1</td>\n",
              "      <td>-1</td>\n",
              "      <td>0</td>\n",
              "      <td>0.177876</td>\n",
              "      <td>-1</td>\n",
              "      <td>41828</td>\n",
              "      <td>-1</td>\n",
              "      <td>-1</td>\n",
              "      <td>1</td>\n",
              "      <td>2</td>\n",
              "      <td>1</td>\n",
              "      <td>389</td>\n",
              "      <td>1</td>\n",
              "      <td>1</td>\n",
              "      <td>0</td>\n",
              "      <td>0</td>\n",
              "      <td>0</td>\n",
              "      <td>1</td>\n",
              "    </tr>\n",
              "  </tbody>\n",
              "</table>\n",
              "<p>5 rows × 112 columns</p>\n",
              "</div>"
            ],
            "text/plain": [
              "   qty_dot_url  qty_hyphen_url  ...  url_shortened  phishing\n",
              "0            2               0  ...              0         0\n",
              "1            4               0  ...              0         0\n",
              "2            1               0  ...              0         0\n",
              "3            2               0  ...              0         1\n",
              "4            1               1  ...              0         1\n",
              "\n",
              "[5 rows x 112 columns]"
            ]
          },
          "metadata": {
            "tags": []
          },
          "execution_count": 4
        }
      ]
    },
    {
      "cell_type": "code",
      "metadata": {
        "colab": {
          "base_uri": "https://localhost:8080/",
          "height": 285
        },
        "id": "ubH2WhgP9OyK",
        "outputId": "b2addad7-ca2e-40b3-ba6e-f5ce03b22174"
      },
      "source": [
        "target = data[\"phishing\"].value_counts()\n",
        "sns.barplot(x = target.keys(),\n",
        "            y = target.values)"
      ],
      "execution_count": null,
      "outputs": [
        {
          "output_type": "execute_result",
          "data": {
            "text/plain": [
              "<matplotlib.axes._subplots.AxesSubplot at 0x7f6a0a13ae10>"
            ]
          },
          "metadata": {
            "tags": []
          },
          "execution_count": 5
        },
        {
          "output_type": "display_data",
          "data": {
            "image/png": "[encoded data removed]",
            "text/plain": [
              "<Figure size 432x288 with 1 Axes>"
            ]
          },
          "metadata": {
            "tags": [],
            "needs_background": "light"
          }
        }
      ]
    },
    {
      "cell_type": "markdown",
      "metadata": {
        "id": "FqO_v5XPIfwr"
      },
      "source": [
        "# Missing Values"
      ]
    },
    {
      "cell_type": "code",
      "metadata": {
        "colab": {
          "base_uri": "https://localhost:8080/",
          "height": 419
        },
        "id": "-9E85JtGDJ8r",
        "outputId": "0a8913c9-75a2-4da0-bc95-c38521c7616d"
      },
      "source": [
        "pd.DataFrame(data.isna().sum() ,\n",
        "             columns=[\"naCount\"]).\\\n",
        "             reset_index().\\\n",
        "             rename(columns = {\"index\" : \"columnName\" }).\\\n",
        "             sort_values(by = \"naCount\")"
      ],
      "execution_count": null,
      "outputs": [
        {
          "output_type": "execute_result",
          "data": {
            "text/html": [
              "<div>\n",
              "<style scoped>\n",
              "    .dataframe tbody tr th:only-of-type {\n",
              "        vertical-align: middle;\n",
              "    }\n",
              "\n",
              "    .dataframe tbody tr th {\n",
              "        vertical-align: top;\n",
              "    }\n",
              "\n",
              "    .dataframe thead th {\n",
              "        text-align: right;\n",
              "    }\n",
              "</style>\n",
              "<table border=\"1\" class=\"dataframe\">\n",
              "  <thead>\n",
              "    <tr style=\"text-align: right;\">\n",
              "      <th></th>\n",
              "      <th>columnName</th>\n",
              "      <th>naCount</th>\n",
              "    </tr>\n",
              "  </thead>\n",
              "  <tbody>\n",
              "    <tr>\n",
              "      <th>0</th>\n",
              "      <td>qty_dot_url</td>\n",
              "      <td>0</td>\n",
              "    </tr>\n",
              "    <tr>\n",
              "      <th>81</th>\n",
              "      <td>qty_equal_params</td>\n",
              "      <td>0</td>\n",
              "    </tr>\n",
              "    <tr>\n",
              "      <th>80</th>\n",
              "      <td>qty_questionmark_params</td>\n",
              "      <td>0</td>\n",
              "    </tr>\n",
              "    <tr>\n",
              "      <th>79</th>\n",
              "      <td>qty_slash_params</td>\n",
              "      <td>0</td>\n",
              "    </tr>\n",
              "    <tr>\n",
              "      <th>78</th>\n",
              "      <td>qty_underline_params</td>\n",
              "      <td>0</td>\n",
              "    </tr>\n",
              "    <tr>\n",
              "      <th>...</th>\n",
              "      <td>...</td>\n",
              "      <td>...</td>\n",
              "    </tr>\n",
              "    <tr>\n",
              "      <th>31</th>\n",
              "      <td>qty_plus_domain</td>\n",
              "      <td>0</td>\n",
              "    </tr>\n",
              "    <tr>\n",
              "      <th>30</th>\n",
              "      <td>qty_comma_domain</td>\n",
              "      <td>0</td>\n",
              "    </tr>\n",
              "    <tr>\n",
              "      <th>29</th>\n",
              "      <td>qty_tilde_domain</td>\n",
              "      <td>0</td>\n",
              "    </tr>\n",
              "    <tr>\n",
              "      <th>110</th>\n",
              "      <td>url_shortened</td>\n",
              "      <td>0</td>\n",
              "    </tr>\n",
              "    <tr>\n",
              "      <th>111</th>\n",
              "      <td>phishing</td>\n",
              "      <td>0</td>\n",
              "    </tr>\n",
              "  </tbody>\n",
              "</table>\n",
              "<p>112 rows × 2 columns</p>\n",
              "</div>"
            ],
            "text/plain": [
              "                  columnName  naCount\n",
              "0                qty_dot_url        0\n",
              "81          qty_equal_params        0\n",
              "80   qty_questionmark_params        0\n",
              "79          qty_slash_params        0\n",
              "78      qty_underline_params        0\n",
              "..                       ...      ...\n",
              "31           qty_plus_domain        0\n",
              "30          qty_comma_domain        0\n",
              "29          qty_tilde_domain        0\n",
              "110            url_shortened        0\n",
              "111                 phishing        0\n",
              "\n",
              "[112 rows x 2 columns]"
            ]
          },
          "metadata": {
            "tags": []
          },
          "execution_count": 6
        }
      ]
    },
    {
      "cell_type": "markdown",
      "metadata": {
        "id": "E2NIuKs8NBH6"
      },
      "source": [
        "- There is not any missing values in data"
      ]
    },
    {
      "cell_type": "markdown",
      "metadata": {
        "id": "K_NG0EL2NF_R"
      },
      "source": [
        "# Outliers"
      ]
    },
    {
      "cell_type": "code",
      "metadata": {
        "colab": {
          "base_uri": "https://localhost:8080/"
        },
        "id": "aXVH7RvsPoxX",
        "outputId": "adbe168c-403f-4bdd-c815-c404a4eac633"
      },
      "source": [
        "colsForOutlierAnalyze = [col for col in data.columns if len(data[col].value_counts().keys()) > 100]\n",
        "colsForOutlierAnalyze"
      ],
      "execution_count": 4,
      "outputs": [
        {
          "output_type": "execute_result",
          "data": {
            "text/plain": [
              "['length_url',\n",
              " 'directory_length',\n",
              " 'file_length',\n",
              " 'params_length',\n",
              " 'time_response',\n",
              " 'asn_ip',\n",
              " 'time_domain_activation',\n",
              " 'time_domain_expiration',\n",
              " 'ttl_hostname']"
            ]
          },
          "metadata": {
            "tags": []
          },
          "execution_count": 4
        }
      ]
    },
    {
      "cell_type": "code",
      "metadata": {
        "id": "2m463u95QANb",
        "colab": {
          "base_uri": "https://localhost:8080/",
          "height": 883
        },
        "outputId": "1ae43683-1080-4527-a48d-f8492728daba"
      },
      "source": [
        "def boxPlot(data, colsForOutlierAnalyze):\n",
        "## \n",
        "## Boxplots for detect outlier values\n",
        "## @params = {data: dataset for analyze, colsForOutlierAnalyze: Numeric columns in dataset}\n",
        "##\n",
        "  plt.subplots(nrows = 3,\n",
        "              ncols = 3,\n",
        "              figsize = (15,15))\n",
        "  for i in range(len(colsForOutlierAnalyze)):\n",
        "    plt.subplot(3,3,i+1)\n",
        "    sns.boxplot(x = \"phishing\", y = colsForOutlierAnalyze[i], data = data)\n",
        "  #plt.title(colsForOutlierAnalyze[i])\n",
        "boxPlot(data, colsForOutlierAnalyze)"
      ],
      "execution_count": 5,
      "outputs": [
        {
          "output_type": "display_data",
          "data": {
            "image/png": "[encoded data removed]",
            "text/plain": [
              "<Figure size 1080x1080 with 9 Axes>"
            ]
          },
          "metadata": {
            "tags": [],
            "needs_background": "light"
          }
        }
      ]
    },
    {
      "cell_type": "code",
      "metadata": {
        "id": "VPPlKj37z8gu",
        "colab": {
          "base_uri": "https://localhost:8080/",
          "height": 884
        },
        "outputId": "685ce95a-bf48-4291-c988-032580399e64"
      },
      "source": [
        "#outlierValues = (1000,700,700,1800,20,200000,10000,20000,60000)\n",
        "outlierValues = (400,300,200,200,10,125000,10000,2500,35000)\n",
        "def cleanOutliers(data, columnList, outlierValues):\n",
        "##\n",
        "## Clean outliers for a better predictive model.\n",
        "## @params = {data: dataset for clean, columnList: list of numeric columns which are have outliers, outlierValues: pre-defined outlier values for each column}\n",
        "## return = New dataframe which has not any outlier values / normalized data\n",
        "##\n",
        "  tempData = data\n",
        "  for idx, column in enumerate(columnList):\n",
        "    tempData.drop(tempData[tempData[column] > outlierValues[idx]].index, \n",
        "                  inplace = True)\n",
        "  return tempData\n",
        "\n",
        "dataCleanedOutliers = cleanOutliers(data, colsForOutlierAnalyze, outlierValues)\n",
        "boxPlot(dataCleanedOutliers, colsForOutlierAnalyze)"
      ],
      "execution_count": 6,
      "outputs": [
        {
          "output_type": "display_data",
          "data": {
            "image/png": "[encoded data removed]",
            "text/plain": [
              "<Figure size 1080x1080 with 9 Axes>"
            ]
          },
          "metadata": {
            "tags": [],
            "needs_background": "light"
          }
        }
      ]
    },
    {
      "cell_type": "code",
      "metadata": {
        "colab": {
          "base_uri": "https://localhost:8080/"
        },
        "id": "vWppeOv89W6N",
        "outputId": "4709dc9b-6c49-40e4-9715-5a56c9d0d7da"
      },
      "source": [
        "dataCleanedOutliers.shape"
      ],
      "execution_count": 7,
      "outputs": [
        {
          "output_type": "execute_result",
          "data": {
            "text/plain": [
              "(54023, 112)"
            ]
          },
          "metadata": {
            "tags": []
          },
          "execution_count": 7
        }
      ]
    },
    {
      "cell_type": "markdown",
      "metadata": {
        "id": "4hWXhQnIVUA5"
      },
      "source": [
        "# Train-Test Split"
      ]
    },
    {
      "cell_type": "code",
      "metadata": {
        "id": "gDLHefXvSK6I"
      },
      "source": [
        "def trainTestSplitData(data, trainLen, valLen):\n",
        "##\n",
        "## Splits data for train (Model Training) and test (Model Evaluating)\n",
        "## @params = {data: data for split, testLen: train data ratio}\n",
        "## @returns = {x_train, x_test, y_train, y_test, x_val, y_val : base and target data for model}\n",
        "##\n",
        "  X = data.drop([\"phishing\"], axis = 1)\n",
        "  y = data[\"phishing\"]\n",
        "  trainLen = int(data.shape[0] * trainLen)\n",
        "  valLen = trainLen - int(trainLen * valLen)  \n",
        "  x_train, x_test, y_train, y_test = X[:trainLen], X[trainLen:], y[:trainLen], y[trainLen:]\n",
        "  x_train, x_val, y_train, y_val = x_train[:valLen], x_train[valLen:], y_train[:valLen], y_train[valLen:]\n",
        "  del X\n",
        "  del y\n",
        "  return x_train, x_test, x_val, y_train, y_test, y_val"
      ],
      "execution_count": 8,
      "outputs": []
    },
    {
      "cell_type": "code",
      "metadata": {
        "id": "TT-3-uIuayiy"
      },
      "source": [
        "x_train, x_test, x_val, y_train, y_test, y_val = trainTestSplitData(dataCleanedOutliers, 0.9, 0.15)"
      ],
      "execution_count": 9,
      "outputs": []
    },
    {
      "cell_type": "code",
      "metadata": {
        "colab": {
          "base_uri": "https://localhost:8080/"
        },
        "id": "dAaJAoaXgj-G",
        "outputId": "df4cedbf-6702-45f0-b05f-e7ed15266635"
      },
      "source": [
        "print(f\"Train Data Shape: {x_train.shape} Train Target Shape: {y_train.shape}\")\n",
        "print(f\"Validation Data Shape: {x_val.shape} Validation Target Shape: {y_val.shape}\")\n",
        "print(f\"Test Data Shape: {x_test.shape} Test Target Shape: {y_test.shape}\")"
      ],
      "execution_count": 10,
      "outputs": [
        {
          "output_type": "stream",
          "text": [
            "Train Data Shape: (41327, 111) Train Target Shape: (41327,)\n",
            "Validation Data Shape: (7293, 111) Validation Target Shape: (7293,)\n",
            "Test Data Shape: (5403, 111) Test Target Shape: (5403,)\n"
          ],
          "name": "stdout"
        }
      ]
    },
    {
      "cell_type": "markdown",
      "metadata": {
        "id": "KgxLtP0DhDJZ"
      },
      "source": [
        "# Model Selection"
      ]
    },
    {
      "cell_type": "code",
      "metadata": {
        "id": "ZlMwGRcFIknB"
      },
      "source": [
        "def gridSearchCrossValidation(tunedParams,\n",
        "                              scores,\n",
        "                              x_train,\n",
        "                              x_val,\n",
        "                              y_train,\n",
        "                              y_val,\n",
        "                              modelType = \"KNN\"\n",
        "                              ):\n",
        "  ###\n",
        "  ### Cross Validation for test model metric and hyper-parameter tuning\n",
        "  ### @params = {tunedParams: hyper-parameters for dataset, scores: accuracy metrics, x_train/y_train/x_val/y_val: datasets, modelType: algorithm type (KNN, RF, XGB)}\n",
        "  ###\n",
        "  for score in scores:\n",
        "    print(f\"Hyper-Parameter Tuning for {score}\")\n",
        "    if modelType == \"KNN\":\n",
        "      model = GridSearchCV(KNeighborsClassifier(),\n",
        "                           tunedParams,\n",
        "                           scoring = f\"{score}_macro\")\n",
        "    elif modelType == \"RF\":\n",
        "      model = GridSearchCV((RandomForestClassifier()),\n",
        "                           tunedParams,\n",
        "                           scoring = f\"{score}_macro\")\n",
        "    elif modelType == \"XGB\":\n",
        "      model = GridSearchCV(xg.XGBClassifier(),\n",
        "                           tunedParams,\n",
        "                           scoring = f\"{score}_macro\")\n",
        "    \n",
        "    model.fit(x_train, y_train)\n",
        "    print(\"Best parameters set found on development set:\")\n",
        "    print(model.best_params_)\n",
        "    print(\"Grid scores on development set:\")\n",
        "    means = model.cv_results_['mean_test_score']\n",
        "    stds = model.cv_results_['std_test_score']\n",
        "    for mean, std, params in zip(means, stds, model.cv_results_['params']):\n",
        "        print(\"%0.3f (+/-%0.03f) for %r\"\n",
        "              % (mean, std * 2, params))\n",
        "    print(\"Detailed classification report:\")\n",
        "    y_true, y_pred = y_val, model.predict(x_val)\n",
        "    print(classification_report(y_true, y_pred))"
      ],
      "execution_count": null,
      "outputs": []
    },
    {
      "cell_type": "markdown",
      "metadata": {
        "id": "U4k6fkOsT7M0"
      },
      "source": [
        "### K Nearest Neighbors"
      ]
    },
    {
      "cell_type": "code",
      "metadata": {
        "colab": {
          "base_uri": "https://localhost:8080/"
        },
        "id": "5Jq5LJLyg3_W",
        "outputId": "b6c23787-0ed1-4e73-f45f-6cba51600fba"
      },
      "source": [
        "tunedParams = [{\"n_neighbors\": [3,5,7],\n",
        "                \"weights\": [\"uniform\", \"distance\"],\n",
        "                \"p\": [1,2]}]\n",
        "scores = [\"precision\", \"recall\"]\n",
        "gridSearchCrossValidation(tunedParams,\n",
        "                          scores,\n",
        "                          x_train,\n",
        "                          x_val,\n",
        "                          y_train,\n",
        "                          y_val,\n",
        "                          modelType = \"KNN\")"
      ],
      "execution_count": null,
      "outputs": [
        {
          "output_type": "stream",
          "text": [
            "Hyper-Parameter Tuning for precision\n",
            "Best parameters set found on development set:\n",
            "{'n_neighbors': 7, 'p': 1, 'weights': 'distance'}\n",
            "Grid scores on development set:\n",
            "0.868 (+/-0.005) for {'n_neighbors': 3, 'p': 1, 'weights': 'uniform'}\n",
            "0.881 (+/-0.004) for {'n_neighbors': 3, 'p': 1, 'weights': 'distance'}\n",
            "0.847 (+/-0.003) for {'n_neighbors': 3, 'p': 2, 'weights': 'uniform'}\n",
            "0.862 (+/-0.003) for {'n_neighbors': 3, 'p': 2, 'weights': 'distance'}\n",
            "0.858 (+/-0.007) for {'n_neighbors': 5, 'p': 1, 'weights': 'uniform'}\n",
            "0.881 (+/-0.006) for {'n_neighbors': 5, 'p': 1, 'weights': 'distance'}\n",
            "0.836 (+/-0.005) for {'n_neighbors': 5, 'p': 2, 'weights': 'uniform'}\n",
            "0.862 (+/-0.005) for {'n_neighbors': 5, 'p': 2, 'weights': 'distance'}\n",
            "0.851 (+/-0.007) for {'n_neighbors': 7, 'p': 1, 'weights': 'uniform'}\n",
            "0.881 (+/-0.005) for {'n_neighbors': 7, 'p': 1, 'weights': 'distance'}\n",
            "0.830 (+/-0.004) for {'n_neighbors': 7, 'p': 2, 'weights': 'uniform'}\n",
            "0.862 (+/-0.006) for {'n_neighbors': 7, 'p': 2, 'weights': 'distance'}\n",
            "Detailed classification report:\n",
            "              precision    recall  f1-score   support\n",
            "\n",
            "           0       0.90      0.87      0.89      3549\n",
            "           1       0.88      0.91      0.90      3744\n",
            "\n",
            "    accuracy                           0.89      7293\n",
            "   macro avg       0.89      0.89      0.89      7293\n",
            "weighted avg       0.89      0.89      0.89      7293\n",
            "\n",
            "Hyper-Parameter Tuning for recall\n",
            "Best parameters set found on development set:\n",
            "{'n_neighbors': 5, 'p': 1, 'weights': 'distance'}\n",
            "Grid scores on development set:\n",
            "0.868 (+/-0.004) for {'n_neighbors': 3, 'p': 1, 'weights': 'uniform'}\n",
            "0.881 (+/-0.004) for {'n_neighbors': 3, 'p': 1, 'weights': 'distance'}\n",
            "0.846 (+/-0.003) for {'n_neighbors': 3, 'p': 2, 'weights': 'uniform'}\n",
            "0.861 (+/-0.003) for {'n_neighbors': 3, 'p': 2, 'weights': 'distance'}\n",
            "0.858 (+/-0.007) for {'n_neighbors': 5, 'p': 1, 'weights': 'uniform'}\n",
            "0.881 (+/-0.006) for {'n_neighbors': 5, 'p': 1, 'weights': 'distance'}\n",
            "0.835 (+/-0.004) for {'n_neighbors': 5, 'p': 2, 'weights': 'uniform'}\n",
            "0.861 (+/-0.005) for {'n_neighbors': 5, 'p': 2, 'weights': 'distance'}\n",
            "0.851 (+/-0.006) for {'n_neighbors': 7, 'p': 1, 'weights': 'uniform'}\n",
            "0.880 (+/-0.005) for {'n_neighbors': 7, 'p': 1, 'weights': 'distance'}\n",
            "0.829 (+/-0.003) for {'n_neighbors': 7, 'p': 2, 'weights': 'uniform'}\n",
            "0.861 (+/-0.005) for {'n_neighbors': 7, 'p': 2, 'weights': 'distance'}\n",
            "Detailed classification report:\n",
            "              precision    recall  f1-score   support\n",
            "\n",
            "           0       0.91      0.87      0.89      3549\n",
            "           1       0.88      0.92      0.90      3744\n",
            "\n",
            "    accuracy                           0.89      7293\n",
            "   macro avg       0.90      0.89      0.89      7293\n",
            "weighted avg       0.89      0.89      0.89      7293\n",
            "\n"
          ],
          "name": "stdout"
        }
      ]
    },
    {
      "cell_type": "markdown",
      "metadata": {
        "id": "dMDtF-HuUAGI"
      },
      "source": [
        "### Random Forest Classifier"
      ]
    },
    {
      "cell_type": "code",
      "metadata": {
        "colab": {
          "base_uri": "https://localhost:8080/"
        },
        "id": "Sl9WmFGhUPRV",
        "outputId": "2ee47679-058f-4924-e15c-421ad8c7ee8a"
      },
      "source": [
        "tunedParams = [{\"n_estimators\": [10, 50, 100],\n",
        "                \"criterion\": [\"gini\", \"entropy\"],\n",
        "                \"max_features\": [\"auto\", \"sqrt\", \"log2\"]}]\n",
        "scores = [\"precision\", \"recall\"]\n",
        "gridSearchCrossValidation(tunedParams,\n",
        "                          scores,\n",
        "                          x_train,\n",
        "                          x_val,\n",
        "                          y_train,\n",
        "                          y_val,\n",
        "                          modelType = \"RF\")"
      ],
      "execution_count": null,
      "outputs": [
        {
          "output_type": "stream",
          "text": [
            "Hyper-Parameter Tuning for precision\n",
            "Best parameters set found on development set:\n",
            "{'criterion': 'entropy', 'max_features': 'sqrt', 'n_estimators': 100}\n",
            "Grid scores on development set:\n",
            "0.949 (+/-0.003) for {'criterion': 'gini', 'max_features': 'auto', 'n_estimators': 10}\n",
            "0.953 (+/-0.002) for {'criterion': 'gini', 'max_features': 'auto', 'n_estimators': 50}\n",
            "0.954 (+/-0.003) for {'criterion': 'gini', 'max_features': 'auto', 'n_estimators': 100}\n",
            "0.948 (+/-0.005) for {'criterion': 'gini', 'max_features': 'sqrt', 'n_estimators': 10}\n",
            "0.954 (+/-0.003) for {'criterion': 'gini', 'max_features': 'sqrt', 'n_estimators': 50}\n",
            "0.954 (+/-0.003) for {'criterion': 'gini', 'max_features': 'sqrt', 'n_estimators': 100}\n",
            "0.947 (+/-0.002) for {'criterion': 'gini', 'max_features': 'log2', 'n_estimators': 10}\n",
            "0.953 (+/-0.005) for {'criterion': 'gini', 'max_features': 'log2', 'n_estimators': 50}\n",
            "0.954 (+/-0.004) for {'criterion': 'gini', 'max_features': 'log2', 'n_estimators': 100}\n",
            "0.949 (+/-0.003) for {'criterion': 'entropy', 'max_features': 'auto', 'n_estimators': 10}\n",
            "0.954 (+/-0.003) for {'criterion': 'entropy', 'max_features': 'auto', 'n_estimators': 50}\n",
            "0.954 (+/-0.004) for {'criterion': 'entropy', 'max_features': 'auto', 'n_estimators': 100}\n",
            "0.948 (+/-0.004) for {'criterion': 'entropy', 'max_features': 'sqrt', 'n_estimators': 10}\n",
            "0.953 (+/-0.004) for {'criterion': 'entropy', 'max_features': 'sqrt', 'n_estimators': 50}\n",
            "0.954 (+/-0.002) for {'criterion': 'entropy', 'max_features': 'sqrt', 'n_estimators': 100}\n",
            "0.947 (+/-0.003) for {'criterion': 'entropy', 'max_features': 'log2', 'n_estimators': 10}\n",
            "0.953 (+/-0.005) for {'criterion': 'entropy', 'max_features': 'log2', 'n_estimators': 50}\n",
            "0.953 (+/-0.005) for {'criterion': 'entropy', 'max_features': 'log2', 'n_estimators': 100}\n",
            "Detailed classification report:\n",
            "              precision    recall  f1-score   support\n",
            "\n",
            "           0       0.96      0.95      0.95      3549\n",
            "           1       0.95      0.96      0.96      3744\n",
            "\n",
            "    accuracy                           0.96      7293\n",
            "   macro avg       0.96      0.95      0.96      7293\n",
            "weighted avg       0.96      0.96      0.96      7293\n",
            "\n",
            "Hyper-Parameter Tuning for recall\n",
            "Best parameters set found on development set:\n",
            "{'criterion': 'gini', 'max_features': 'auto', 'n_estimators': 100}\n",
            "Grid scores on development set:\n",
            "0.948 (+/-0.004) for {'criterion': 'gini', 'max_features': 'auto', 'n_estimators': 10}\n",
            "0.954 (+/-0.003) for {'criterion': 'gini', 'max_features': 'auto', 'n_estimators': 50}\n",
            "0.954 (+/-0.003) for {'criterion': 'gini', 'max_features': 'auto', 'n_estimators': 100}\n",
            "0.948 (+/-0.002) for {'criterion': 'gini', 'max_features': 'sqrt', 'n_estimators': 10}\n",
            "0.954 (+/-0.003) for {'criterion': 'gini', 'max_features': 'sqrt', 'n_estimators': 50}\n",
            "0.954 (+/-0.003) for {'criterion': 'gini', 'max_features': 'sqrt', 'n_estimators': 100}\n",
            "0.948 (+/-0.004) for {'criterion': 'gini', 'max_features': 'log2', 'n_estimators': 10}\n",
            "0.953 (+/-0.004) for {'criterion': 'gini', 'max_features': 'log2', 'n_estimators': 50}\n",
            "0.953 (+/-0.004) for {'criterion': 'gini', 'max_features': 'log2', 'n_estimators': 100}\n",
            "0.948 (+/-0.003) for {'criterion': 'entropy', 'max_features': 'auto', 'n_estimators': 10}\n",
            "0.953 (+/-0.003) for {'criterion': 'entropy', 'max_features': 'auto', 'n_estimators': 50}\n",
            "0.953 (+/-0.004) for {'criterion': 'entropy', 'max_features': 'auto', 'n_estimators': 100}\n",
            "0.949 (+/-0.002) for {'criterion': 'entropy', 'max_features': 'sqrt', 'n_estimators': 10}\n",
            "0.953 (+/-0.003) for {'criterion': 'entropy', 'max_features': 'sqrt', 'n_estimators': 50}\n",
            "0.954 (+/-0.004) for {'criterion': 'entropy', 'max_features': 'sqrt', 'n_estimators': 100}\n",
            "0.947 (+/-0.004) for {'criterion': 'entropy', 'max_features': 'log2', 'n_estimators': 10}\n",
            "0.952 (+/-0.005) for {'criterion': 'entropy', 'max_features': 'log2', 'n_estimators': 50}\n",
            "0.952 (+/-0.004) for {'criterion': 'entropy', 'max_features': 'log2', 'n_estimators': 100}\n",
            "Detailed classification report:\n",
            "              precision    recall  f1-score   support\n",
            "\n",
            "           0       0.96      0.95      0.95      3549\n",
            "           1       0.95      0.96      0.96      3744\n",
            "\n",
            "    accuracy                           0.96      7293\n",
            "   macro avg       0.96      0.96      0.96      7293\n",
            "weighted avg       0.96      0.96      0.96      7293\n",
            "\n"
          ],
          "name": "stdout"
        }
      ]
    },
    {
      "cell_type": "markdown",
      "metadata": {
        "id": "gsmbsVzkUCkq"
      },
      "source": [
        "### XGBoost Classifier"
      ]
    },
    {
      "cell_type": "code",
      "metadata": {
        "colab": {
          "base_uri": "https://localhost:8080/"
        },
        "id": "XC65k82zYCHu",
        "outputId": "e2e1505d-e450-4642-807b-6c98f0faf916"
      },
      "source": [
        "tunedParams = [{\"min_child_weight\": [5, 10],\n",
        "                \"colsample_bytree\": [0.6, 0.8]}]\n",
        "scores = [\"precision\", \"recall\"]\n",
        "gridSearchCrossValidation(tunedParams,\n",
        "                          scores,\n",
        "                          x_train,\n",
        "                          x_val,\n",
        "                          y_train,\n",
        "                          y_val,\n",
        "                          modelType = \"XGB\")"
      ],
      "execution_count": null,
      "outputs": [
        {
          "output_type": "stream",
          "text": [
            "Hyper-Parameter Tuning for precision\n",
            "Best parameters set found on development set:\n",
            "{'colsample_bytree': 0.8, 'min_child_weight': 5}\n",
            "Grid scores on development set:\n",
            "0.929 (+/-0.004) for {'colsample_bytree': 0.6, 'min_child_weight': 5}\n",
            "0.930 (+/-0.002) for {'colsample_bytree': 0.6, 'min_child_weight': 10}\n",
            "0.930 (+/-0.003) for {'colsample_bytree': 0.8, 'min_child_weight': 5}\n",
            "0.929 (+/-0.002) for {'colsample_bytree': 0.8, 'min_child_weight': 10}\n",
            "Detailed classification report:\n",
            "              precision    recall  f1-score   support\n",
            "\n",
            "           0       0.94      0.92      0.93      3549\n",
            "           1       0.92      0.94      0.93      3744\n",
            "\n",
            "    accuracy                           0.93      7293\n",
            "   macro avg       0.93      0.93      0.93      7293\n",
            "weighted avg       0.93      0.93      0.93      7293\n",
            "\n",
            "Hyper-Parameter Tuning for recall\n",
            "Best parameters set found on development set:\n",
            "{'colsample_bytree': 0.8, 'min_child_weight': 5}\n",
            "Grid scores on development set:\n",
            "0.929 (+/-0.003) for {'colsample_bytree': 0.6, 'min_child_weight': 5}\n",
            "0.929 (+/-0.002) for {'colsample_bytree': 0.6, 'min_child_weight': 10}\n",
            "0.929 (+/-0.003) for {'colsample_bytree': 0.8, 'min_child_weight': 5}\n",
            "0.928 (+/-0.002) for {'colsample_bytree': 0.8, 'min_child_weight': 10}\n",
            "Detailed classification report:\n",
            "              precision    recall  f1-score   support\n",
            "\n",
            "           0       0.94      0.92      0.93      3549\n",
            "           1       0.92      0.94      0.93      3744\n",
            "\n",
            "    accuracy                           0.93      7293\n",
            "   macro avg       0.93      0.93      0.93      7293\n",
            "weighted avg       0.93      0.93      0.93      7293\n",
            "\n"
          ],
          "name": "stdout"
        }
      ]
    },
    {
      "cell_type": "markdown",
      "metadata": {
        "id": "w_tYT29ti4du"
      },
      "source": [
        "- We select Random Forest Classifier with params = {'criterion': 'entropy', 'max_features': 'sqrt', 'n_estimators': 100}"
      ]
    },
    {
      "cell_type": "markdown",
      "metadata": {
        "id": "bEkVfbKBhXy-"
      },
      "source": [
        "# Model Evaluation"
      ]
    },
    {
      "cell_type": "code",
      "metadata": {
        "id": "MZ93zQvahShQ"
      },
      "source": [
        "model = RandomForestClassifier(criterion = 'entropy', \n",
        "                               max_features = 'sqrt', \n",
        "                               n_estimators = 100)"
      ],
      "execution_count": 13,
      "outputs": []
    },
    {
      "cell_type": "code",
      "metadata": {
        "colab": {
          "base_uri": "https://localhost:8080/"
        },
        "id": "BQmedu7mhwfm",
        "outputId": "99fc880d-486a-4631-f4fd-9a315aa0dc28"
      },
      "source": [
        "model.fit(x_train, y_train)"
      ],
      "execution_count": 14,
      "outputs": [
        {
          "output_type": "execute_result",
          "data": {
            "text/plain": [
              "RandomForestClassifier(bootstrap=True, ccp_alpha=0.0, class_weight=None,\n",
              "                       criterion='entropy', max_depth=None, max_features='sqrt',\n",
              "                       max_leaf_nodes=None, max_samples=None,\n",
              "                       min_impurity_decrease=0.0, min_impurity_split=None,\n",
              "                       min_samples_leaf=1, min_samples_split=2,\n",
              "                       min_weight_fraction_leaf=0.0, n_estimators=100,\n",
              "                       n_jobs=None, oob_score=False, random_state=None,\n",
              "                       verbose=0, warm_start=False)"
            ]
          },
          "metadata": {
            "tags": []
          },
          "execution_count": 14
        }
      ]
    },
    {
      "cell_type": "code",
      "metadata": {
        "id": "-yIeJSezh7md",
        "colab": {
          "base_uri": "https://localhost:8080/",
          "height": 318
        },
        "outputId": "7d1fa27f-e437-4cee-ff98-ec5171080ccd"
      },
      "source": [
        "plt.figure(figsize= (20,20))\n",
        "plot_roc_curve(model, x_test, y_test)\n",
        "plt.title(\"Roc Curve\")\n",
        "plt.show()"
      ],
      "execution_count": null,
      "outputs": [
        {
          "output_type": "display_data",
          "data": {
            "text/plain": [
              "<Figure size 1440x1440 with 0 Axes>"
            ]
          },
          "metadata": {
            "tags": []
          }
        },
        {
          "output_type": "display_data",
          "data": {
            "image/png": "[encoded data removed]",
            "text/plain": [
              "<Figure size 432x288 with 1 Axes>"
            ]
          },
          "metadata": {
            "tags": []
          }
        }
      ]
    },
    {
      "cell_type": "code",
      "metadata": {
        "colab": {
          "base_uri": "https://localhost:8080/",
          "height": 419
        },
        "id": "Yb345G9ivKKA",
        "outputId": "09a063be-367e-4a02-b935-dc3287481f2a"
      },
      "source": [
        "predicts = model.predict(x_test)\n",
        "predictionData = {\"Index\": range(x_test.shape[0]),\n",
        "                      \"Actual\": y_test,\n",
        "                      \"Prediction\": predicts}\n",
        "predictionData = pd.DataFrame(predictionData)\n",
        "predictionData"
      ],
      "execution_count": null,
      "outputs": [
        {
          "output_type": "execute_result",
          "data": {
            "text/html": [
              "<div>\n",
              "<style scoped>\n",
              "    .dataframe tbody tr th:only-of-type {\n",
              "        vertical-align: middle;\n",
              "    }\n",
              "\n",
              "    .dataframe tbody tr th {\n",
              "        vertical-align: top;\n",
              "    }\n",
              "\n",
              "    .dataframe thead th {\n",
              "        text-align: right;\n",
              "    }\n",
              "</style>\n",
              "<table border=\"1\" class=\"dataframe\">\n",
              "  <thead>\n",
              "    <tr style=\"text-align: right;\">\n",
              "      <th></th>\n",
              "      <th>Index</th>\n",
              "      <th>Actual</th>\n",
              "      <th>Prediction</th>\n",
              "    </tr>\n",
              "  </thead>\n",
              "  <tbody>\n",
              "    <tr>\n",
              "      <th>52801</th>\n",
              "      <td>0</td>\n",
              "      <td>0</td>\n",
              "      <td>0</td>\n",
              "    </tr>\n",
              "    <tr>\n",
              "      <th>52802</th>\n",
              "      <td>1</td>\n",
              "      <td>1</td>\n",
              "      <td>1</td>\n",
              "    </tr>\n",
              "    <tr>\n",
              "      <th>52803</th>\n",
              "      <td>2</td>\n",
              "      <td>0</td>\n",
              "      <td>1</td>\n",
              "    </tr>\n",
              "    <tr>\n",
              "      <th>52804</th>\n",
              "      <td>3</td>\n",
              "      <td>1</td>\n",
              "      <td>1</td>\n",
              "    </tr>\n",
              "    <tr>\n",
              "      <th>52805</th>\n",
              "      <td>4</td>\n",
              "      <td>1</td>\n",
              "      <td>1</td>\n",
              "    </tr>\n",
              "    <tr>\n",
              "      <th>...</th>\n",
              "      <td>...</td>\n",
              "      <td>...</td>\n",
              "      <td>...</td>\n",
              "    </tr>\n",
              "    <tr>\n",
              "      <th>58640</th>\n",
              "      <td>5398</td>\n",
              "      <td>1</td>\n",
              "      <td>1</td>\n",
              "    </tr>\n",
              "    <tr>\n",
              "      <th>58641</th>\n",
              "      <td>5399</td>\n",
              "      <td>0</td>\n",
              "      <td>0</td>\n",
              "    </tr>\n",
              "    <tr>\n",
              "      <th>58642</th>\n",
              "      <td>5400</td>\n",
              "      <td>1</td>\n",
              "      <td>1</td>\n",
              "    </tr>\n",
              "    <tr>\n",
              "      <th>58643</th>\n",
              "      <td>5401</td>\n",
              "      <td>0</td>\n",
              "      <td>0</td>\n",
              "    </tr>\n",
              "    <tr>\n",
              "      <th>58644</th>\n",
              "      <td>5402</td>\n",
              "      <td>0</td>\n",
              "      <td>0</td>\n",
              "    </tr>\n",
              "  </tbody>\n",
              "</table>\n",
              "<p>5403 rows × 3 columns</p>\n",
              "</div>"
            ],
            "text/plain": [
              "       Index  Actual  Prediction\n",
              "52801      0       0           0\n",
              "52802      1       1           1\n",
              "52803      2       0           1\n",
              "52804      3       1           1\n",
              "52805      4       1           1\n",
              "...      ...     ...         ...\n",
              "58640   5398       1           1\n",
              "58641   5399       0           0\n",
              "58642   5400       1           1\n",
              "58643   5401       0           0\n",
              "58644   5402       0           0\n",
              "\n",
              "[5403 rows x 3 columns]"
            ]
          },
          "metadata": {
            "tags": []
          },
          "execution_count": 34
        }
      ]
    },
    {
      "cell_type": "markdown",
      "metadata": {
        "id": "6ALNJlNORcvc"
      },
      "source": [
        "# Simple Neural Nets."
      ]
    },
    {
      "cell_type": "code",
      "metadata": {
        "id": "jpIaufWQvq_Z",
        "colab": {
          "base_uri": "https://localhost:8080/"
        },
        "outputId": "a9f66d32-5ce6-42d7-fbaa-001211c7aff0"
      },
      "source": [
        "def createCompileModel(nodeCounts,\n",
        "                       input_dims,\n",
        "                       loss,\n",
        "                       optimizer):\n",
        "  ###\n",
        "  ### Create a basic neural nets with 4 layers\n",
        "  ### @params = {nodeCounts: node count for each layer, input_dims: input layer dimensions, loss: loss function, optimizer: optimizer for model}\n",
        "  ### @returns = {model: Compiled keras model}\n",
        "  ###\n",
        "  model = Sequential()\n",
        "  model.add(Dense(nodeCounts[0], input_dim=input_dims, activation='relu'))\n",
        "  model.add(Dense(nodeCounts[1], activation='relu'))\n",
        "  model.add(Dense(nodeCounts[2], activation='relu'))\n",
        "  model.add(Dense(nodeCounts[3], activation='sigmoid'))\n",
        "  model.compile(loss=loss, optimizer=optimizer, metrics=['accuracy'])\n",
        "  return model\n",
        "\n",
        "nodeCounts = [128,64,16,1]\n",
        "loss = \"binary_crossentropy\"\n",
        "optimizer = \"adam\"\n",
        "model = createCompileModel(nodeCounts, x_train.shape[1], loss, optimizer)\n",
        "model.fit(x_train, y_train, epochs=100, batch_size=256)"
      ],
      "execution_count": null,
      "outputs": [
        {
          "output_type": "stream",
          "text": [
            "Epoch 1/100\n",
            "162/162 [==============================] - 1s 3ms/step - loss: 50.4039 - accuracy: 0.6513\n",
            "Epoch 2/100\n",
            "162/162 [==============================] - 1s 3ms/step - loss: 6.3386 - accuracy: 0.7475\n",
            "Epoch 3/100\n",
            "162/162 [==============================] - 1s 3ms/step - loss: 5.8273 - accuracy: 0.7611\n",
            "Epoch 4/100\n",
            "162/162 [==============================] - 1s 3ms/step - loss: 4.9966 - accuracy: 0.7868\n",
            "Epoch 5/100\n",
            "162/162 [==============================] - 1s 3ms/step - loss: 8.6756 - accuracy: 0.7567\n",
            "Epoch 6/100\n",
            "162/162 [==============================] - 0s 3ms/step - loss: 3.3712 - accuracy: 0.8173\n",
            "Epoch 7/100\n",
            "162/162 [==============================] - 0s 3ms/step - loss: 4.9931 - accuracy: 0.7899\n",
            "Epoch 8/100\n",
            "162/162 [==============================] - 1s 3ms/step - loss: 3.9903 - accuracy: 0.8082\n",
            "Epoch 9/100\n",
            "162/162 [==============================] - 1s 3ms/step - loss: 3.7126 - accuracy: 0.8045\n",
            "Epoch 10/100\n",
            "162/162 [==============================] - 0s 3ms/step - loss: 4.0521 - accuracy: 0.8031\n",
            "Epoch 11/100\n",
            "162/162 [==============================] - 1s 3ms/step - loss: 3.5453 - accuracy: 0.8117\n",
            "Epoch 12/100\n",
            "162/162 [==============================] - 1s 3ms/step - loss: 3.6872 - accuracy: 0.8076\n",
            "Epoch 13/100\n",
            "162/162 [==============================] - 0s 3ms/step - loss: 3.6093 - accuracy: 0.8128\n",
            "Epoch 14/100\n",
            "162/162 [==============================] - 0s 3ms/step - loss: 3.3304 - accuracy: 0.8167\n",
            "Epoch 15/100\n",
            "162/162 [==============================] - 0s 3ms/step - loss: 3.9187 - accuracy: 0.8088\n",
            "Epoch 16/100\n",
            "162/162 [==============================] - 1s 3ms/step - loss: 3.9894 - accuracy: 0.8021\n",
            "Epoch 17/100\n",
            "162/162 [==============================] - 0s 3ms/step - loss: 2.8979 - accuracy: 0.8273\n",
            "Epoch 18/100\n",
            "162/162 [==============================] - 1s 3ms/step - loss: 3.1105 - accuracy: 0.8194\n",
            "Epoch 19/100\n",
            "162/162 [==============================] - 0s 3ms/step - loss: 2.6734 - accuracy: 0.8311\n",
            "Epoch 20/100\n",
            "162/162 [==============================] - 1s 3ms/step - loss: 3.3518 - accuracy: 0.8164\n",
            "Epoch 21/100\n",
            "162/162 [==============================] - 0s 3ms/step - loss: 2.7120 - accuracy: 0.8266\n",
            "Epoch 22/100\n",
            "162/162 [==============================] - 0s 3ms/step - loss: 3.0355 - accuracy: 0.8187\n",
            "Epoch 23/100\n",
            "162/162 [==============================] - 0s 3ms/step - loss: 2.1668 - accuracy: 0.8382\n",
            "Epoch 24/100\n",
            "162/162 [==============================] - 0s 3ms/step - loss: 2.1880 - accuracy: 0.8335\n",
            "Epoch 25/100\n",
            "162/162 [==============================] - 0s 3ms/step - loss: 2.6241 - accuracy: 0.8216\n",
            "Epoch 26/100\n",
            "162/162 [==============================] - 0s 3ms/step - loss: 2.1822 - accuracy: 0.8321\n",
            "Epoch 27/100\n",
            "162/162 [==============================] - 1s 3ms/step - loss: 2.9093 - accuracy: 0.8181\n",
            "Epoch 28/100\n",
            "162/162 [==============================] - 1s 3ms/step - loss: 1.6286 - accuracy: 0.8500\n",
            "Epoch 29/100\n",
            "162/162 [==============================] - 1s 3ms/step - loss: 1.7313 - accuracy: 0.8412\n",
            "Epoch 30/100\n",
            "162/162 [==============================] - 0s 3ms/step - loss: 1.9722 - accuracy: 0.8326\n",
            "Epoch 31/100\n",
            "162/162 [==============================] - 0s 3ms/step - loss: 1.9049 - accuracy: 0.8357\n",
            "Epoch 32/100\n",
            "162/162 [==============================] - 1s 3ms/step - loss: 2.4337 - accuracy: 0.8259\n",
            "Epoch 33/100\n",
            "162/162 [==============================] - 0s 3ms/step - loss: 1.3544 - accuracy: 0.8535\n",
            "Epoch 34/100\n",
            "162/162 [==============================] - 1s 3ms/step - loss: 1.7188 - accuracy: 0.8394\n",
            "Epoch 35/100\n",
            "162/162 [==============================] - 0s 3ms/step - loss: 1.5069 - accuracy: 0.8469\n",
            "Epoch 36/100\n",
            "162/162 [==============================] - 1s 3ms/step - loss: 1.3227 - accuracy: 0.8504\n",
            "Epoch 37/100\n",
            "162/162 [==============================] - 1s 3ms/step - loss: 2.1803 - accuracy: 0.8278\n",
            "Epoch 38/100\n",
            "162/162 [==============================] - 0s 3ms/step - loss: 1.5686 - accuracy: 0.8459\n",
            "Epoch 39/100\n",
            "162/162 [==============================] - 0s 3ms/step - loss: 1.2388 - accuracy: 0.8534\n",
            "Epoch 40/100\n",
            "162/162 [==============================] - 1s 3ms/step - loss: 1.5425 - accuracy: 0.8381\n",
            "Epoch 41/100\n",
            "162/162 [==============================] - 1s 3ms/step - loss: 1.2673 - accuracy: 0.8490\n",
            "Epoch 42/100\n",
            "162/162 [==============================] - 1s 3ms/step - loss: 1.2169 - accuracy: 0.8472\n",
            "Epoch 43/100\n",
            "162/162 [==============================] - 0s 3ms/step - loss: 1.8658 - accuracy: 0.8392\n",
            "Epoch 44/100\n",
            "162/162 [==============================] - 1s 3ms/step - loss: 1.4722 - accuracy: 0.8399\n",
            "Epoch 45/100\n",
            "162/162 [==============================] - 1s 3ms/step - loss: 1.0578 - accuracy: 0.8533\n",
            "Epoch 46/100\n",
            "162/162 [==============================] - 1s 3ms/step - loss: 1.3228 - accuracy: 0.8446\n",
            "Epoch 47/100\n",
            "162/162 [==============================] - 0s 3ms/step - loss: 0.8754 - accuracy: 0.8656\n",
            "Epoch 48/100\n",
            "162/162 [==============================] - 1s 3ms/step - loss: 1.2914 - accuracy: 0.8444\n",
            "Epoch 49/100\n",
            "162/162 [==============================] - 0s 3ms/step - loss: 1.2695 - accuracy: 0.8426\n",
            "Epoch 50/100\n",
            "162/162 [==============================] - 0s 3ms/step - loss: 0.9270 - accuracy: 0.8597\n",
            "Epoch 51/100\n",
            "162/162 [==============================] - 1s 3ms/step - loss: 0.8850 - accuracy: 0.8572\n",
            "Epoch 52/100\n",
            "162/162 [==============================] - 1s 3ms/step - loss: 0.7828 - accuracy: 0.8623\n",
            "Epoch 53/100\n",
            "162/162 [==============================] - 0s 3ms/step - loss: 1.0918 - accuracy: 0.8436\n",
            "Epoch 54/100\n",
            "162/162 [==============================] - 0s 3ms/step - loss: 0.9232 - accuracy: 0.8578\n",
            "Epoch 55/100\n",
            "162/162 [==============================] - 1s 3ms/step - loss: 0.8955 - accuracy: 0.8559\n",
            "Epoch 56/100\n",
            "162/162 [==============================] - 1s 3ms/step - loss: 0.9277 - accuracy: 0.8516\n",
            "Epoch 57/100\n",
            "162/162 [==============================] - 0s 3ms/step - loss: 0.8243 - accuracy: 0.8588\n",
            "Epoch 58/100\n",
            "162/162 [==============================] - 0s 3ms/step - loss: 0.6835 - accuracy: 0.8659\n",
            "Epoch 59/100\n",
            "162/162 [==============================] - 0s 3ms/step - loss: 0.6916 - accuracy: 0.8621\n",
            "Epoch 60/100\n",
            "162/162 [==============================] - 0s 3ms/step - loss: 0.8865 - accuracy: 0.8495\n",
            "Epoch 61/100\n",
            "162/162 [==============================] - 0s 3ms/step - loss: 0.7748 - accuracy: 0.8560\n",
            "Epoch 62/100\n",
            "162/162 [==============================] - 0s 3ms/step - loss: 0.6620 - accuracy: 0.8643\n",
            "Epoch 63/100\n",
            "162/162 [==============================] - 1s 3ms/step - loss: 0.8108 - accuracy: 0.8509\n",
            "Epoch 64/100\n",
            "162/162 [==============================] - 0s 3ms/step - loss: 0.6338 - accuracy: 0.8644\n",
            "Epoch 65/100\n",
            "162/162 [==============================] - 0s 3ms/step - loss: 0.7004 - accuracy: 0.8575\n",
            "Epoch 66/100\n",
            "162/162 [==============================] - 0s 3ms/step - loss: 0.6477 - accuracy: 0.8688\n",
            "Epoch 67/100\n",
            "162/162 [==============================] - 0s 3ms/step - loss: 0.6428 - accuracy: 0.8609\n",
            "Epoch 68/100\n",
            "162/162 [==============================] - 0s 3ms/step - loss: 0.6623 - accuracy: 0.8548\n",
            "Epoch 69/100\n",
            "162/162 [==============================] - 0s 3ms/step - loss: 0.4648 - accuracy: 0.8766\n",
            "Epoch 70/100\n",
            "162/162 [==============================] - 0s 3ms/step - loss: 0.5630 - accuracy: 0.8644\n",
            "Epoch 71/100\n",
            "162/162 [==============================] - 1s 3ms/step - loss: 0.5551 - accuracy: 0.8656\n",
            "Epoch 72/100\n",
            "162/162 [==============================] - 0s 3ms/step - loss: 0.4738 - accuracy: 0.8724\n",
            "Epoch 73/100\n",
            "162/162 [==============================] - 1s 3ms/step - loss: 0.4215 - accuracy: 0.8760\n",
            "Epoch 74/100\n",
            "162/162 [==============================] - 0s 3ms/step - loss: 0.5784 - accuracy: 0.8602\n",
            "Epoch 75/100\n",
            "162/162 [==============================] - 0s 3ms/step - loss: 0.4535 - accuracy: 0.8703\n",
            "Epoch 76/100\n",
            "162/162 [==============================] - 1s 3ms/step - loss: 0.4685 - accuracy: 0.8691\n",
            "Epoch 77/100\n",
            "162/162 [==============================] - 0s 3ms/step - loss: 0.3919 - accuracy: 0.8779\n",
            "Epoch 78/100\n",
            "162/162 [==============================] - 0s 3ms/step - loss: 0.3457 - accuracy: 0.8842\n",
            "Epoch 79/100\n",
            "162/162 [==============================] - 1s 3ms/step - loss: 0.5062 - accuracy: 0.8595\n",
            "Epoch 80/100\n",
            "162/162 [==============================] - 0s 3ms/step - loss: 0.4025 - accuracy: 0.8724\n",
            "Epoch 81/100\n",
            "162/162 [==============================] - 0s 3ms/step - loss: 0.3879 - accuracy: 0.8737\n",
            "Epoch 82/100\n",
            "162/162 [==============================] - 0s 3ms/step - loss: 0.4120 - accuracy: 0.8660\n",
            "Epoch 83/100\n",
            "162/162 [==============================] - 0s 3ms/step - loss: 0.3312 - accuracy: 0.8818\n",
            "Epoch 84/100\n",
            "162/162 [==============================] - 0s 3ms/step - loss: 0.3184 - accuracy: 0.8838\n",
            "Epoch 85/100\n",
            "162/162 [==============================] - 0s 3ms/step - loss: 0.4000 - accuracy: 0.8636\n",
            "Epoch 86/100\n",
            "162/162 [==============================] - 0s 3ms/step - loss: 0.2949 - accuracy: 0.8868\n",
            "Epoch 87/100\n",
            "162/162 [==============================] - 0s 3ms/step - loss: 0.2792 - accuracy: 0.8873\n",
            "Epoch 88/100\n",
            "162/162 [==============================] - 0s 3ms/step - loss: 0.2941 - accuracy: 0.8837\n",
            "Epoch 89/100\n",
            "162/162 [==============================] - 1s 3ms/step - loss: 0.2743 - accuracy: 0.8888\n",
            "Epoch 90/100\n",
            "162/162 [==============================] - 1s 3ms/step - loss: 0.2665 - accuracy: 0.8907\n",
            "Epoch 91/100\n",
            "162/162 [==============================] - 1s 3ms/step - loss: 0.2773 - accuracy: 0.8874\n",
            "Epoch 92/100\n",
            "162/162 [==============================] - 0s 3ms/step - loss: 0.3107 - accuracy: 0.8773\n",
            "Epoch 93/100\n",
            "162/162 [==============================] - 1s 3ms/step - loss: 0.2886 - accuracy: 0.8828\n",
            "Epoch 94/100\n",
            "162/162 [==============================] - 0s 3ms/step - loss: 0.2680 - accuracy: 0.8876\n",
            "Epoch 95/100\n",
            "162/162 [==============================] - 1s 3ms/step - loss: 0.2606 - accuracy: 0.8923\n",
            "Epoch 96/100\n",
            "162/162 [==============================] - 0s 3ms/step - loss: 0.2854 - accuracy: 0.8824\n",
            "Epoch 97/100\n",
            "162/162 [==============================] - 1s 3ms/step - loss: 0.2777 - accuracy: 0.8838\n",
            "Epoch 98/100\n",
            "162/162 [==============================] - 0s 3ms/step - loss: 0.2609 - accuracy: 0.8917\n",
            "Epoch 99/100\n",
            "162/162 [==============================] - 1s 3ms/step - loss: 0.2864 - accuracy: 0.8817\n",
            "Epoch 100/100\n",
            "162/162 [==============================] - 0s 3ms/step - loss: 0.2919 - accuracy: 0.8781\n"
          ],
          "name": "stdout"
        },
        {
          "output_type": "execute_result",
          "data": {
            "text/plain": [
              "<tensorflow.python.keras.callbacks.History at 0x7fe9141417d0>"
            ]
          },
          "metadata": {
            "tags": []
          },
          "execution_count": 13
        }
      ]
    },
    {
      "cell_type": "code",
      "metadata": {
        "colab": {
          "base_uri": "https://localhost:8080/",
          "height": 501
        },
        "id": "3s6ldZp7Sut9",
        "outputId": "4da39d4a-d520-4f47-b440-02258d9b45da"
      },
      "source": [
        "def plotRocCurveNN(model, \n",
        "                   x_test,\n",
        "                   y_test):\n",
        "  ###\n",
        "  ### Plotting roc curve for neural nets\n",
        "  ### @params = {model: pre-trained nn model, x_test: test base, y_test: test target}\n",
        "  ### @returns = {roc_auc_score: roc_auc score of nn model}\n",
        "  ##\n",
        "  predicts = model.predict_classes(x_test).ravel()\n",
        "  fprNN, tprNN, thNN = roc_curve(y_test, predicts)\n",
        "  aucModel = auc(fprNN, tprNN)\n",
        "  plt.figure(figsize = (10,8))\n",
        "  plt.plot(fprNN, tprNN, marker='.', label='Neural Network (auc = %0.3f)' % aucModel)\n",
        "  plt.title(\"Basic Neural Nets ROC Curve\")\n",
        "  plt.show()\n",
        "  return roc_auc_score(y_test, predicts)\n",
        "rocAucScoreNN = plotRocCurveNN(model, x_test, y_test)"
      ],
      "execution_count": null,
      "outputs": [
        {
          "output_type": "display_data",
          "data": {
            "image/png": "[encoded data removed]",
            "text/plain": [
              "<Figure size 720x576 with 1 Axes>"
            ]
          },
          "metadata": {
            "tags": [],
            "needs_background": "light"
          }
        }
      ]
    },
    {
      "cell_type": "code",
      "metadata": {
        "colab": {
          "base_uri": "https://localhost:8080/"
        },
        "id": "vQSDZfeXTnPH",
        "outputId": "415c8267-3a40-4393-9959-9834da821374"
      },
      "source": [
        "rocAucScoreNN"
      ],
      "execution_count": null,
      "outputs": [
        {
          "output_type": "execute_result",
          "data": {
            "text/plain": [
              "0.882512126079879"
            ]
          },
          "metadata": {
            "tags": []
          },
          "execution_count": 18
        }
      ]
    },
    {
      "cell_type": "code",
      "metadata": {
        "colab": {
          "base_uri": "https://localhost:8080/",
          "height": 417
        },
        "id": "Jqhv4ADtUQza",
        "outputId": "debfb038-98f6-4b5c-aa9e-966fc704946f"
      },
      "source": [
        "predicts = model.predict_classes(x_test).ravel()\n",
        "predictionData = {\"Index\": range(x_test.shape[0]),\n",
        "                      \"Actual\": y_test,\n",
        "                      \"Prediction\": predicts}\n",
        "predictionData = pd.DataFrame(predictionData)\n",
        "predictionData"
      ],
      "execution_count": null,
      "outputs": [
        {
          "output_type": "execute_result",
          "data": {
            "text/html": [
              "<div>\n",
              "<style scoped>\n",
              "    .dataframe tbody tr th:only-of-type {\n",
              "        vertical-align: middle;\n",
              "    }\n",
              "\n",
              "    .dataframe tbody tr th {\n",
              "        vertical-align: top;\n",
              "    }\n",
              "\n",
              "    .dataframe thead th {\n",
              "        text-align: right;\n",
              "    }\n",
              "</style>\n",
              "<table border=\"1\" class=\"dataframe\">\n",
              "  <thead>\n",
              "    <tr style=\"text-align: right;\">\n",
              "      <th></th>\n",
              "      <th>Index</th>\n",
              "      <th>Actual</th>\n",
              "      <th>Prediction</th>\n",
              "    </tr>\n",
              "  </thead>\n",
              "  <tbody>\n",
              "    <tr>\n",
              "      <th>52801</th>\n",
              "      <td>0</td>\n",
              "      <td>0</td>\n",
              "      <td>0</td>\n",
              "    </tr>\n",
              "    <tr>\n",
              "      <th>52802</th>\n",
              "      <td>1</td>\n",
              "      <td>1</td>\n",
              "      <td>1</td>\n",
              "    </tr>\n",
              "    <tr>\n",
              "      <th>52803</th>\n",
              "      <td>2</td>\n",
              "      <td>0</td>\n",
              "      <td>1</td>\n",
              "    </tr>\n",
              "    <tr>\n",
              "      <th>52804</th>\n",
              "      <td>3</td>\n",
              "      <td>1</td>\n",
              "      <td>1</td>\n",
              "    </tr>\n",
              "    <tr>\n",
              "      <th>52805</th>\n",
              "      <td>4</td>\n",
              "      <td>1</td>\n",
              "      <td>1</td>\n",
              "    </tr>\n",
              "    <tr>\n",
              "      <th>...</th>\n",
              "      <td>...</td>\n",
              "      <td>...</td>\n",
              "      <td>...</td>\n",
              "    </tr>\n",
              "    <tr>\n",
              "      <th>58640</th>\n",
              "      <td>5398</td>\n",
              "      <td>1</td>\n",
              "      <td>1</td>\n",
              "    </tr>\n",
              "    <tr>\n",
              "      <th>58641</th>\n",
              "      <td>5399</td>\n",
              "      <td>0</td>\n",
              "      <td>0</td>\n",
              "    </tr>\n",
              "    <tr>\n",
              "      <th>58642</th>\n",
              "      <td>5400</td>\n",
              "      <td>1</td>\n",
              "      <td>1</td>\n",
              "    </tr>\n",
              "    <tr>\n",
              "      <th>58643</th>\n",
              "      <td>5401</td>\n",
              "      <td>0</td>\n",
              "      <td>0</td>\n",
              "    </tr>\n",
              "    <tr>\n",
              "      <th>58644</th>\n",
              "      <td>5402</td>\n",
              "      <td>0</td>\n",
              "      <td>1</td>\n",
              "    </tr>\n",
              "  </tbody>\n",
              "</table>\n",
              "<p>5403 rows × 3 columns</p>\n",
              "</div>"
            ],
            "text/plain": [
              "       Index  Actual  Prediction\n",
              "52801      0       0           0\n",
              "52802      1       1           1\n",
              "52803      2       0           1\n",
              "52804      3       1           1\n",
              "52805      4       1           1\n",
              "...      ...     ...         ...\n",
              "58640   5398       1           1\n",
              "58641   5399       0           0\n",
              "58642   5400       1           1\n",
              "58643   5401       0           0\n",
              "58644   5402       0           1\n",
              "\n",
              "[5403 rows x 3 columns]"
            ]
          },
          "metadata": {
            "tags": []
          },
          "execution_count": 20
        }
      ]
    },
    {
      "cell_type": "markdown",
      "metadata": {
        "id": "BuDVc1xlHJv4"
      },
      "source": [
        "# Save Model"
      ]
    },
    {
      "cell_type": "code",
      "metadata": {
        "id": "G8cE_jbxUkYA"
      },
      "source": [
        "filename = 'finalizedRFModel.sav'\n",
        "pickle.dump(model, open(filename, 'wb'))"
      ],
      "execution_count": 15,
      "outputs": []
    },
    {
      "cell_type": "code",
      "metadata": {
        "id": "7QMUoEpVHdRe"
      },
      "source": [
        ""
      ],
      "execution_count": null,
      "outputs": []
    }
  ]
}